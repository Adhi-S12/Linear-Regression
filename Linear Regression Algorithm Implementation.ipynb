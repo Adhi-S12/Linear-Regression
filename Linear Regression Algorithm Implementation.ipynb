{
 "cells": [
  {
   "cell_type": "code",
   "execution_count": 31,
   "metadata": {},
   "outputs": [
    {
     "data": {
      "text/plain": [
       "(   Gender  Age Range  Head Size(cm^3)  Brain Weight(grams)\n",
       " 0       1          1             4512                 1530\n",
       " 1       1          1             3738                 1297\n",
       " 2       1          1             4261                 1335\n",
       " 3       1          1             3777                 1282\n",
       " 4       1          1             4177                 1590,\n",
       " (237, 4))"
      ]
     },
     "execution_count": 31,
     "metadata": {},
     "output_type": "execute_result"
    }
   ],
   "source": [
    "# Importing necessary libraries and importing the sample dataset\n",
    "%matplotlib inline\n",
    "import pandas as pd\n",
    "import numpy as np\n",
    "import matplotlib.pyplot as plt\n",
    "\n",
    "data = pd.read_csv(\"headbrain.csv\")\n",
    "data.head(), data.shape"
   ]
  },
  {
   "cell_type": "code",
   "execution_count": 34,
   "metadata": {},
   "outputs": [
    {
     "data": {
      "text/plain": [
       "(0.26342933948939945, 325.57342104944223)"
      ]
     },
     "execution_count": 34,
     "metadata": {},
     "output_type": "execute_result"
    }
   ],
   "source": [
    "# Plotting a Linear Regression between Head Size(Independent Variable) and Brain Weight(Dependent Variable)\n",
    "# y = mx + c (or) y= b1x + b0\n",
    "# b1 = sum(x - mean(x)) * (y - mean(y)) / (x - mean(x)) ^ 2\n",
    "# b0 = (mean(y) - b1 * mean(x) \n",
    "\n",
    "X = data[\"Head Size(cm^3)\"]\n",
    "Y = data[\"Brain Weight(grams)\"]\n",
    "mean_X = X.mean()\n",
    "mean_Y = Y.mean()\n",
    "\n",
    "b1_num, b1_den = 0,0\n",
    "\n",
    "for i in range(len(X)):\n",
    "    b1_num += (X[i] - mean_X) * (Y[i] - mean_Y)\n",
    "    b1_den += (X[i] - mean_X) ** 2 \n",
    "    \n",
    "b1 = b1_num / b1_den\n",
    "b0 = mean_Y - (b1 * mean_X)\n",
    "\n",
    "# m, c values\n",
    "b1, b0"
   ]
  },
  {
   "cell_type": "code",
   "execution_count": 39,
   "metadata": {},
   "outputs": [
    {
     "data": {
      "text/plain": [
       "<matplotlib.legend.Legend at 0x275245c1310>"
      ]
     },
     "execution_count": 39,
     "metadata": {},
     "output_type": "execute_result"
    },
    {
     "data": {
      "image/png": "[encoded data removed]",
      "text/plain": [
       "<Figure size 720x720 with 1 Axes>"
      ]
     },
     "metadata": {
      "needs_background": "light"
     },
     "output_type": "display_data"
    }
   ],
   "source": [
    "# Creating Regression Line Equation\n",
    "x = np.linspace(min(X), max(X), 500)\n",
    "y = (b1 * x) + b0\n",
    "\n",
    "ax, fig = plt.subplots(figsize=(10,10))\n",
    "\n",
    "# Plotting Data points from the dataset\n",
    "plt.scatter(X,Y, c=\"red\", label=\"Data Points\")\n",
    "\n",
    "# Plotting Regression Line\n",
    "plt.scatter(x,y, label=\"Regression Line\")\n",
    "\n",
    "plt.title(\"Linear Regression\")\n",
    "plt.xlabel(\"Head Size in cm^3\")\n",
    "plt.ylabel(\"Brain Weight in grams\")\n",
    "plt.legend()"
   ]
  },
  {
   "cell_type": "code",
   "execution_count": 41,
   "metadata": {},
   "outputs": [
    {
     "data": {
      "text/plain": [
       "0.6393117199570003"
      ]
     },
     "execution_count": 41,
     "metadata": {},
     "output_type": "execute_result"
    }
   ],
   "source": [
    "# Check how well the Regression equation fits the dataset. In other words, checking the efficiency of the Linear Regression model\n",
    "# Finding R2 square value\n",
    "# SSres = sum((actual_Y - predicted_y) ** 2)\n",
    "# SStot = sum((actual_Y - mean_Y) ** 2)\n",
    "# R2 = 1 - (SSres / SStot)\n",
    "\n",
    "SSres = 0\n",
    "SStot = 0\n",
    "for i in range(len(X)):\n",
    "    pred_y = (b1 * X[i]) + b0\n",
    "    SSres += (Y[i] - pred_y) ** 2\n",
    "    SStot += (Y[i] - mean_Y) ** 2\n",
    "\n",
    "# Calculating R2(R-Squared) value\n",
    "R2 = 1 - (SSres / SStot)\n",
    "R2"
   ]
  },
  {
   "cell_type": "markdown",
   "metadata": {},
   "source": [
    "R2 Value = 0.63"
   ]
  },
  {
   "cell_type": "code",
   "execution_count": 55,
   "metadata": {},
   "outputs": [
    {
     "name": "stdout",
     "output_type": "stream",
     "text": [
      "0.639311719957\n"
     ]
    }
   ],
   "source": [
    "# Implementing with ikit-learn library and verifying the r2 value\n",
    "from sklearn.linear_model import LinearRegression\n",
    "from sklearn.metrics import mean_squared_error\n",
    "\n",
    "X = data[\"Head Size(cm^3)\"]\n",
    "Y = data[\"Brain Weight(grams)\"]\n",
    "\n",
    "# Reshpaing X so that it can be used in the Linear Regression Model\n",
    "X =  X.values.reshape((len(X), 1))\n",
    "\n",
    "len(X), len(Y)\n",
    "\n",
    "# Instantiating the model\n",
    "model = LinearRegression()\n",
    "\n",
    "# Fitting the model\n",
    "model = model.fit(X, Y)\n",
    "\n",
    "# Find predictions\n",
    "y_preds = model.predict(X)\n",
    "\n",
    "# Check r-squared value\n",
    "r2_score = model.score(X, Y)\n",
    "\n",
    "print(r2_score)"
   ]
  },
  {
   "cell_type": "markdown",
   "metadata": {},
   "source": [
    "Getting the same value 0.639311719957 as r-square score using scikit learn library"
   ]
  },
  {
   "cell_type": "code",
   "execution_count": null,
   "metadata": {},
   "outputs": [],
   "source": []
  }
 ],
 "metadata": {
  "kernelspec": {
   "display_name": "Python 3",
   "language": "python",
   "name": "python3"
  },
  "language_info": {
   "codemirror_mode": {
    "name": "ipython",
    "version": 3
   },
   "file_extension": ".py",
   "mimetype": "text/x-python",
   "name": "python",
   "nbconvert_exporter": "python",
   "pygments_lexer": "ipython3",
   "version": "3.8.2"
  }
 },
 "nbformat": 4,
 "nbformat_minor": 4
}
